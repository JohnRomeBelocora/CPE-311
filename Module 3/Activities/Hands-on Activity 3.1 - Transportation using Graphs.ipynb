{
 "cells": [
  {
   "cell_type": "markdown",
   "id": "32f3b9e1",
   "metadata": {},
   "source": [
    "# Hands-on Activity 1.3 | Transportation using Graphs"
   ]
  },
  {
   "cell_type": "markdown",
   "id": "a51e92c8",
   "metadata": {},
   "source": [
    "#### Objective(s):\n",
    "\n",
    "This activity aims to demonstrate how to solve transportation related problem using Graphs"
   ]
  },
  {
   "cell_type": "markdown",
   "id": "3d40df8b",
   "metadata": {},
   "source": [
    "#### Intended Learning Outcomes (ILOs):\n",
    "* Demonstrate how to compute the shortest path from source to destination using graphs\n",
    "* Apply DFS and BFS to compute the shortest path"
   ]
  },
  {
   "cell_type": "markdown",
   "id": "ed8f98b6",
   "metadata": {},
   "source": [
    "#### Resources:\n",
    "* Jupyter Notebook"
   ]
  },
  {
   "cell_type": "markdown",
   "id": "36301665",
   "metadata": {},
   "source": [
    "#### Procedures:"
   ]
  },
  {
   "cell_type": "markdown",
   "id": "a2f20257",
   "metadata": {},
   "source": [
    "1. Create a Node class"
   ]
  },
  {
   "cell_type": "code",
   "execution_count": 29,
   "id": "43c51c35",
   "metadata": {},
   "outputs": [],
   "source": [
    "class Node(object):\n",
    "    def __init__(self, name):\n",
    "        \"\"\"Assumes name is a string\"\"\"\n",
    "        self.name = name\n",
    "    def getName(self):\n",
    "        return self.name\n",
    "    def __str__(self):\n",
    "        return self.name"
   ]
  },
  {
   "cell_type": "markdown",
   "id": "d4cd747e",
   "metadata": {},
   "source": [
    "2. Create an Edge class"
   ]
  },
  {
   "cell_type": "code",
   "execution_count": 30,
   "id": "b585ad3a",
   "metadata": {},
   "outputs": [],
   "source": [
    "class Edge(object):\n",
    "    def __init__(self, src, dest):\n",
    "        \"\"\"Assumes src and dest are nodes\"\"\"\n",
    "        self.src = src\n",
    "        self.dest = dest\n",
    "    def getSource(self):\n",
    "        return self.src\n",
    "    def getDestination(self):\n",
    "        return self.dest\n",
    "    def __str__(self):\n",
    "        return self.src.getName() + '->' + self.dest.getName()"
   ]
  },
  {
   "cell_type": "markdown",
   "id": "43fb73dd",
   "metadata": {},
   "source": [
    "3. Create Digraph class that add nodes and edges"
   ]
  },
  {
   "cell_type": "code",
   "execution_count": 31,
   "id": "68d3735b",
   "metadata": {},
   "outputs": [],
   "source": [
    "class Digraph(object):\n",
    "    \"\"\"edges is a dict mapping each node to a list of\n",
    "    its children\"\"\"\n",
    "    def __init__(self):\n",
    "        self.edges = {}\n",
    "    def addNode(self, node):\n",
    "        if node in self.edges:\n",
    "            raise ValueError('Duplicate node')\n",
    "        else:\n",
    "            self.edges[node] = []\n",
    "    def addEdge(self, edge):\n",
    "        src = edge.getSource()\n",
    "        dest = edge.getDestination()\n",
    "        if not (src in self.edges and dest in self.edges):\n",
    "            raise ValueError('Node not in graph')\n",
    "        self.edges[src].append(dest)\n",
    "    def childrenOf(self, node):\n",
    "        return self.edges[node]\n",
    "    def hasNode(self, node):\n",
    "        return node in self.edges\n",
    "    def getNode(self, name):\n",
    "        for n in self.edges:\n",
    "            if n.getName() == name:\n",
    "                return n\n",
    "        raise NameError(name)\n",
    "    def __str__(self):\n",
    "        result = ''\n",
    "        for src in self.edges:\n",
    "            for dest in self.edges[src]:\n",
    "                result = result + src.getName() + '->'\\\n",
    "                         + dest.getName() + '\\n'\n",
    "        return result[:-1] #omit final newline"
   ]
  },
  {
   "cell_type": "markdown",
   "id": "4df80036",
   "metadata": {},
   "source": [
    "4. Create a Graph class from Digraph class that deifnes the destination and Source"
   ]
  },
  {
   "cell_type": "code",
   "execution_count": 32,
   "id": "451f786f",
   "metadata": {},
   "outputs": [],
   "source": [
    "class Graph(Digraph):    \n",
    "    def addEdge(self, edge):        \n",
    "        Digraph.addEdge(self, edge)        \n",
    "        rev = Edge(edge.getDestination(), edge.getSource())        \n",
    "        Digraph.addEdge(self, rev)"
   ]
  },
  {
   "cell_type": "markdown",
   "id": "a1834ccf",
   "metadata": {},
   "source": [
    "5. Create a buildCityGraph method to add nodes (City) and edges   (source to destination)"
   ]
  },
  {
   "cell_type": "code",
   "execution_count": 33,
   "id": "048f4f16",
   "metadata": {},
   "outputs": [],
   "source": [
    "def buildCityGraph(graphType):    \n",
    "    g = graphType()    \n",
    "    for name in ('Boston', 'Providence', 'New York', 'Chicago', 'Denver', 'Phoenix', 'Los Angeles'): \n",
    "        #Create 7 nodes        \n",
    "        g.addNode(Node(name))    \n",
    "    g.addEdge(Edge(g.getNode('Boston'), g.getNode('Providence')))    \n",
    "    g.addEdge(Edge(g.getNode('Boston'), g.getNode('New York')))    \n",
    "    g.addEdge(Edge(g.getNode('Providence'), g.getNode('Boston')))    \n",
    "    g.addEdge(Edge(g.getNode('Providence'), g.getNode('New York')))    \n",
    "    g.addEdge(Edge(g.getNode('New York'), g.getNode('Chicago')))    \n",
    "    g.addEdge(Edge(g.getNode('Chicago'), g.getNode('Denver')))    \n",
    "    g.addEdge(Edge(g.getNode('Denver'), g.getNode('Phoenix')))    \n",
    "    g.addEdge(Edge(g.getNode('Denver'), g.getNode('New York')))    \n",
    "    g.addEdge(Edge(g.getNode('Los Angeles'), g.getNode('Boston')))    \n",
    "    return g"
   ]
  },
  {
   "cell_type": "code",
   "execution_count": 34,
   "id": "8172d371",
   "metadata": {},
   "outputs": [],
   "source": [
    "def printPath(path):    \n",
    "    \"\"\"Assumes path is a list of nodes\"\"\"    \n",
    "    result = ''    \n",
    "    for i in range(len(path)):        \n",
    "        result = result + str(path[i])        \n",
    "        if i != len(path) - 1:            \n",
    "            result = result + '->'    \n",
    "    return result"
   ]
  },
  {
   "cell_type": "markdown",
   "id": "b5d8bbe4",
   "metadata": {},
   "source": [
    "6. Create a method to define DFS technique"
   ]
  },
  {
   "cell_type": "code",
   "execution_count": 35,
   "id": "019a8c61",
   "metadata": {},
   "outputs": [],
   "source": [
    "def DFS(graph, start, end, path, shortest, toPrint = False):\n",
    "    \"\"\"Assumes graph is a Digraph; start and end are nodes;\n",
    "          path and shortest are lists of nodes\n",
    "       Returns a shortest path from start to end in graph\"\"\"\n",
    "    path = path + [start]\n",
    "    if toPrint:\n",
    "        print('Current DFS path:', printPath(path))\n",
    "    if start == end:\n",
    "        return path\n",
    "    for node in graph.childrenOf(start):\n",
    "        if node not in path: #avoid cycles\n",
    "            if shortest == None or len(path) < len(shortest):\n",
    "                newPath = DFS(graph, node, end, path, shortest,\n",
    "                              toPrint)\n",
    "                if newPath != None:\n",
    "                    shortest = newPath\n",
    "        elif toPrint:\n",
    "            print('Already visited', node)\n",
    "    return shortest"
   ]
  },
  {
   "cell_type": "markdown",
   "id": "9457ef55",
   "metadata": {},
   "source": [
    "7. Define a shortestPath method to return the shortest path from source to destination using DFS"
   ]
  },
  {
   "cell_type": "code",
   "execution_count": 36,
   "id": "e435e3ce",
   "metadata": {},
   "outputs": [],
   "source": [
    "def shortestPath(graph, start, end, toPrint = False):\n",
    "    \"\"\"Assumes graph is a Digraph; start and end are nodes\n",
    "       Returns a shortest path from start to end in graph\"\"\"\n",
    "    return DFS(graph, start, end, [], None, toPrint)"
   ]
  },
  {
   "cell_type": "markdown",
   "id": "084a1713",
   "metadata": {},
   "source": [
    "8. Create a method to test the shortest path method"
   ]
  },
  {
   "cell_type": "code",
   "execution_count": 37,
   "id": "4ebad313",
   "metadata": {},
   "outputs": [],
   "source": [
    "def testSP(source, destination):\n",
    "    g = buildCityGraph(Digraph)\n",
    "    sp = shortestPath(g, g.getNode(source), g.getNode(destination),\n",
    "                      toPrint = True)\n",
    "    if sp != None:\n",
    "        print('Shortest path from', source, 'to',\n",
    "              destination, 'is', printPath(sp))\n",
    "    else:\n",
    "        print('There is no path from', source, 'to', destination)"
   ]
  },
  {
   "cell_type": "markdown",
   "id": "397fcad6",
   "metadata": {},
   "source": [
    "9. Execute the testSP method"
   ]
  },
  {
   "cell_type": "code",
   "execution_count": 44,
   "id": "7b0da96e",
   "metadata": {},
   "outputs": [
    {
     "name": "stdout",
     "output_type": "stream",
     "text": [
      "Current BFS path: Boston\n",
      "Current BFS path: Boston->Providence\n",
      "Current BFS path: Boston->New York\n",
      "Current BFS path: Boston->Providence->New York\n",
      "Current BFS path: Boston->New York->Chicago\n",
      "Current BFS path: Boston->Providence->New York->Chicago\n",
      "Current BFS path: Boston->New York->Chicago->Denver\n",
      "Current BFS path: Boston->Providence->New York->Chicago->Denver\n",
      "Current BFS path: Boston->New York->Chicago->Denver->Phoenix\n",
      "Shortest path from Boston to Phoenix is Boston->New York->Chicago->Denver->Phoenix\n"
     ]
    }
   ],
   "source": [
    "testSP('Boston', 'Phoenix')"
   ]
  },
  {
   "cell_type": "markdown",
   "id": "be62a0ea",
   "metadata": {},
   "source": [
    "##### Question: \n",
    "    \n",
    "Describe the DFS method to compute for the shortest path using the given sample codes"
   ]
  },
  {
   "cell_type": "markdown",
   "id": "cb6ecea8",
   "metadata": {},
   "source": [
    "#type your answer here"
   ]
  },
  {
   "cell_type": "markdown",
   "id": "7bec3a35",
   "metadata": {},
   "source": [
    "10. Create a method to define BFS technique"
   ]
  },
  {
   "cell_type": "code",
   "execution_count": 39,
   "id": "baddc3be",
   "metadata": {},
   "outputs": [],
   "source": [
    "def BFS(graph, start, end, toPrint = False):\n",
    "    \"\"\"Assumes graph is a Digraph; start and end are nodes\n",
    "       Returns a shortest path from start to end in graph\"\"\"\n",
    "    initPath = [start]\n",
    "    pathQueue = [initPath]\n",
    "    while len(pathQueue) != 0:\n",
    "        #Get and remove oldest element in pathQueue\n",
    "        tmpPath = pathQueue.pop(0)\n",
    "        if toPrint:\n",
    "            print('Current BFS path:', printPath(tmpPath))\n",
    "        lastNode = tmpPath[-1]\n",
    "        if lastNode == end:\n",
    "            return tmpPath\n",
    "        for nextNode in graph.childrenOf(lastNode):\n",
    "            if nextNode not in tmpPath:\n",
    "                newPath = tmpPath + [nextNode]\n",
    "                pathQueue.append(newPath)\n",
    "    return None"
   ]
  },
  {
   "cell_type": "markdown",
   "id": "050edf85",
   "metadata": {},
   "source": [
    "11. Define a shortestPath method to return the shortest path from source to destination using DFS"
   ]
  },
  {
   "cell_type": "code",
   "execution_count": 40,
   "id": "0a595716",
   "metadata": {},
   "outputs": [],
   "source": [
    "def shortestPath(graph, start, end, toPrint = False):\n",
    "    \"\"\"Assumes graph is a Digraph; start and end are nodes\n",
    "       Returns a shortest path from start to end in graph\"\"\"\n",
    "    return BFS(graph, start, end, toPrint)"
   ]
  },
  {
   "cell_type": "markdown",
   "id": "abd00a05",
   "metadata": {},
   "source": [
    "12. Execute the testSP method"
   ]
  },
  {
   "cell_type": "code",
   "execution_count": 41,
   "id": "a942ee6b",
   "metadata": {},
   "outputs": [
    {
     "name": "stdout",
     "output_type": "stream",
     "text": [
      "Current BFS path: Boston\n",
      "Current BFS path: Boston->Providence\n",
      "Current BFS path: Boston->New York\n",
      "Current BFS path: Boston->Providence->New York\n",
      "Current BFS path: Boston->New York->Chicago\n",
      "Current BFS path: Boston->Providence->New York->Chicago\n",
      "Current BFS path: Boston->New York->Chicago->Denver\n",
      "Current BFS path: Boston->Providence->New York->Chicago->Denver\n",
      "Current BFS path: Boston->New York->Chicago->Denver->Phoenix\n",
      "Shortest path from Boston to Phoenix is Boston->New York->Chicago->Denver->Phoenix\n"
     ]
    }
   ],
   "source": [
    "testSP('Boston', 'Phoenix')"
   ]
  },
  {
   "cell_type": "markdown",
   "id": "c7bbd794",
   "metadata": {},
   "source": [
    "#### Question: \n",
    "    \n",
    "Describe the BFS method to compute for the shortest path using the given sample codestion:\n",
    "    "
   ]
  },
  {
   "cell_type": "markdown",
   "id": "287801ae",
   "metadata": {},
   "source": [
    "#### Supplementary Activitiy\n",
    "* Use a specific location or city to solve transportation using graph\n",
    "* Use DFS and BFS methods to compute the shortest path\n",
    "* Display the shortest path from source to destination using DFS and BFS\n",
    "* Differentiate the performance of DFS from BFS"
   ]
  },
  {
   "cell_type": "code",
   "execution_count": 46,
   "id": "b7e4231f",
   "metadata": {},
   "outputs": [],
   "source": [
    "# type your code here using DFS"
   ]
  },
  {
   "cell_type": "code",
   "execution_count": 47,
   "id": "baecad6d",
   "metadata": {},
   "outputs": [],
   "source": [
    "# type your code here using BFS\n"
   ]
  },
  {
   "cell_type": "markdown",
   "id": "a8447b32",
   "metadata": {},
   "source": [
    "#Type your evaluation about the performance of DFS and BFS"
   ]
  },
  {
   "cell_type": "markdown",
   "id": "159ad18e",
   "metadata": {},
   "source": [
    "#### Conclusion"
   ]
  },
  {
   "cell_type": "markdown",
   "id": "b384d644",
   "metadata": {},
   "source": [
    "#type your conclusion here"
   ]
  },
  {
   "cell_type": "code",
   "execution_count": null,
   "id": "869a5e99",
   "metadata": {},
   "outputs": [],
   "source": []
  }
 ],
 "metadata": {
  "kernelspec": {
   "display_name": "Python 3",
   "language": "python",
   "name": "python3"
  },
  "language_info": {
   "codemirror_mode": {
    "name": "ipython",
    "version": 3
   },
   "file_extension": ".py",
   "mimetype": "text/x-python",
   "name": "python",
   "nbconvert_exporter": "python",
   "pygments_lexer": "ipython3",
   "version": "3.7.10"
  }
 },
 "nbformat": 4,
 "nbformat_minor": 5
}
