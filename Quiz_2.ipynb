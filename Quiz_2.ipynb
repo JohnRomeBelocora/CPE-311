{
  "nbformat": 4,
  "nbformat_minor": 0,
  "metadata": {
    "colab": {
      "provenance": []
    },
    "kernelspec": {
      "name": "python3",
      "display_name": "Python 3"
    },
    "language_info": {
      "name": "python"
    }
  },
  "cells": [
    {
      "cell_type": "markdown",
      "source": [
        "You are given n types of coin denominations of values v(1) < v(2) < ... < v(n) (all integers). Assume v(1) = 1, so you can always make change for any amount of money C. Give an algorithm which makes change for an amount of money C with as few coins as possible. [on problem set 4]"
      ],
      "metadata": {
        "id": "rqSesvcaB6JB"
      }
    },
    {
      "cell_type": "code",
      "execution_count": 16,
      "metadata": {
        "colab": {
          "base_uri": "https://localhost:8080/"
        },
        "id": "eSmX1ajXBBMH",
        "outputId": "513ce65d-5b73-4138-8201-b44a1c623c2e"
      },
      "outputs": [
        {
          "output_type": "execute_result",
          "data": {
            "text/plain": [
              "1"
            ]
          },
          "metadata": {},
          "execution_count": 16
        }
      ],
      "source": [
        "# n = v(1) < v(2) < v(n)\n",
        "#v(1) = 1\n",
        "#C = 50\n",
        "\n",
        "def Coin(v):\n",
        "  if v == 1:\n",
        "    return 1\n",
        "\n",
        "  else:\n",
        "    change = Coin(x)\n",
        "    print(change)\n",
        "\n",
        "c = 50\n",
        "v = 1\n",
        "x = c - v\n",
        "\n",
        "Coin(v)"
      ]
    },
    {
      "cell_type": "code",
      "source": [
        "#Brute force\n",
        "def Coin(v):\n",
        "  if v == 1:\n",
        "    return 1\n",
        "\n",
        "  else:\n",
        "    change = c - v\n",
        "    print(change)\n",
        "\n",
        "c = 50\n",
        "\n",
        "Coin(2)\n"
      ],
      "metadata": {
        "colab": {
          "base_uri": "https://localhost:8080/"
        },
        "id": "X634Ao4fGbZQ",
        "outputId": "42196dec-70ed-4054-ddf7-86e686b27662"
      },
      "execution_count": 24,
      "outputs": [
        {
          "output_type": "stream",
          "name": "stdout",
          "text": [
            "48\n"
          ]
        }
      ]
    }
  ]
}